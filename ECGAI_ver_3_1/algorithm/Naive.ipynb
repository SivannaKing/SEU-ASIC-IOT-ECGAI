{
 "cells": [
  {
   "cell_type": "code",
   "execution_count": 1,
   "outputs": [
    {
     "name": "stdout",
     "output_type": "stream",
     "text": [
      "X shape before reshape: torch.Size([1024, 3600])\n",
      "cuda:0\n"
     ]
    },
    {
     "data": {
      "text/plain": "========================================================================================================================\nLayer (type (var_name))                  Input Shape          Output Shape         Param #              Trainable\n========================================================================================================================\nECG_Bin (ECG_Bin)                        [64, 1, 3600]        [64, 17]             --                   True\n├─Sequential (classifier)                [64, 1, 3600]        [64, 17, 16]         --                   True\n│    └─Bn_bin_conv_pool (0)              [64, 1, 3600]        [64, 8, 598]         --                   True\n│    │    └─ConstantPad1d (pad)          [64, 1, 3600]        [64, 1, 3610]        --                   --\n│    │    └─BinaryConv1d (conv)          [64, 1, 3610]        [64, 8, 1200]        88                   True\n│    │    └─MaxPool1d (pool)             [64, 8, 1200]        [64, 8, 598]         --                   --\n│    │    └─PReLU (prelu)                [64, 8, 598]         [64, 8, 598]         1                    True\n│    │    └─BatchNorm1d (bn)             [64, 8, 598]         [64, 8, 598]         16                   True\n│    └─Bn_bin_conv_pool (1)              [64, 8, 598]         [64, 16, 297]        --                   True\n│    │    └─ConstantPad1d (pad)          [64, 8, 598]         [64, 8, 608]         --                   --\n│    │    └─BinaryConv1d (conv)          [64, 8, 608]         [64, 16, 598]        1,408                True\n│    │    └─MaxPool1d (pool)             [64, 16, 598]        [64, 16, 297]        --                   --\n│    │    └─PReLU (prelu)                [64, 16, 297]        [64, 16, 297]        1                    True\n│    │    └─BatchNorm1d (bn)             [64, 16, 297]        [64, 16, 297]        32                   True\n│    └─Bn_bin_conv_pool (2)              [64, 16, 297]        [64, 32, 148]        --                   True\n│    │    └─ConstantPad1d (pad)          [64, 16, 297]        [64, 16, 307]        --                   --\n│    │    └─BinaryConv1d (conv)          [64, 16, 307]        [64, 32, 299]        4,608                True\n│    │    └─MaxPool1d (pool)             [64, 32, 299]        [64, 32, 148]        --                   --\n│    │    └─PReLU (prelu)                [64, 32, 148]        [64, 32, 148]        1                    True\n│    │    └─BatchNorm1d (bn)             [64, 32, 148]        [64, 32, 148]        64                   True\n│    └─Bn_bin_conv_pool (3)              [64, 32, 148]        [64, 64, 73]         --                   True\n│    │    └─ConstantPad1d (pad)          [64, 32, 148]        [64, 32, 158]        --                   --\n│    │    └─BinaryConv1d (conv)          [64, 32, 158]        [64, 64, 150]        18,432               True\n│    │    └─MaxPool1d (pool)             [64, 64, 150]        [64, 64, 73]         --                   --\n│    │    └─PReLU (prelu)                [64, 64, 73]         [64, 64, 73]         1                    True\n│    │    └─BatchNorm1d (bn)             [64, 64, 73]         [64, 64, 73]         128                  True\n│    └─Bn_bin_conv_pool (4)              [64, 64, 73]         [64, 32, 35]         --                   True\n│    │    └─ConstantPad1d (pad)          [64, 64, 73]         [64, 64, 83]         --                   --\n│    │    └─BinaryConv1d (conv)          [64, 64, 83]         [64, 32, 73]         22,528               True\n│    │    └─MaxPool1d (pool)             [64, 32, 73]         [64, 32, 35]         --                   --\n│    │    └─PReLU (prelu)                [64, 32, 35]         [64, 32, 35]         1                    True\n│    │    └─BatchNorm1d (bn)             [64, 32, 35]         [64, 32, 35]         64                   True\n│    └─Bn_bin_conv_pool (5)              [64, 32, 35]         [64, 17, 16]         --                   True\n│    │    └─ConstantPad1d (pad)          [64, 32, 35]         [64, 32, 45]         --                   --\n│    │    └─BinaryConv1d (conv)          [64, 32, 45]         [64, 17, 35]         5,984                True\n│    │    └─MaxPool1d (pool)             [64, 17, 35]         [64, 17, 16]         --                   --\n│    │    └─PReLU (prelu)                [64, 17, 16]         [64, 17, 16]         1                    True\n│    │    └─BatchNorm1d (bn)             [64, 17, 16]         [64, 17, 16]         34                   True\n├─Dropout (dropout)                      [64, 17, 16]         [64, 17, 16]         --                   --\n========================================================================================================================\nTotal params: 53,392\nTrainable params: 53,392\nNon-trainable params: 0\nTotal mult-adds (M): 444.45\n========================================================================================================================\nInput size (MB): 0.92\nForward/backward pass size (MB): 41.95\nParams size (MB): 0.21\nEstimated Total Size (MB): 43.09\n========================================================================================================================"
     },
     "execution_count": 1,
     "metadata": {},
     "output_type": "execute_result"
    }
   ],
   "source": [
    "import torch\n",
    "import torch.nn as nn\n",
    "import torch.optim as optim\n",
    "import os\n",
    "from matplotlib import pyplot as plt\n",
    "from My_Basic_Net.utils.Dataprocess import Loader\n",
    "from My_Basic_Net.utils.OP import Bn_bin_conv_pool\n",
    "from My_Basic_Net.utils.plot import plot_cfm\n",
    "import numpy as np\n",
    "import random\n",
    "\n",
    "\n",
    "batch_size = 64\n",
    "classes_num = 17\n",
    "device = torch.device('cuda:0' if torch.cuda.is_available() else 'cpu')\n",
    "\n",
    "seed = 110\n",
    "def set_seed(seed):\n",
    "    random.seed(seed)\n",
    "    os.environ['PYTHONHASHSEED'] = str(seed)\n",
    "    np.random.seed(seed)\n",
    "    torch.manual_seed(seed)\n",
    "    torch.cuda.manual_seed(seed)\n",
    "    torch.cuda.manual_seed_all(seed)  # if you are using multi-GPU.\n",
    "    torch.backends.cudnn.benchmark = False\n",
    "    torch.backends.cudnn.deterministic = True\n",
    "set_seed(seed)\n",
    "\n",
    "loader = Loader(batch_size=batch_size, classes_num=classes_num, device=device, test_size=0.2)\n",
    "labels, train_loader, test_loader = loader.loader()\n",
    "\n",
    "lr = 0.01\n",
    "epochs = 1000\n",
    "\n",
    "########################################定义网络##############################################\n",
    "kernel_size, padding, poolsize =11, 5, 5\n",
    "class ECG_Bin(nn.Module):\n",
    "    def __init__(self, device):\n",
    "        super(ECG_Bin, self).__init__()\n",
    "        self.name = 'Bin_ECG'\n",
    "        self.device = device\n",
    "        self.classifier = nn.Sequential(\n",
    "            # input_channels, output_channels, kernel_size:9, stride, padding:7, pad_value, pool_size:5, pool_stride\n",
    "            Bn_bin_conv_pool(1, 8, kernel_size, 3, padding, 1,\n",
    "                             poolsize, 2),\n",
    "            Bn_bin_conv_pool(8, 16, kernel_size, 1, padding, 1,\n",
    "                             poolsize, 2),\n",
    "            Bn_bin_conv_pool(16, 32, 9, 1, padding, 1,\n",
    "                             poolsize, 2),\n",
    "            Bn_bin_conv_pool(32, 64, 9, 1, padding, 1,\n",
    "                             poolsize, 2),# +\n",
    "            Bn_bin_conv_pool(64, 32, kernel_size, 1, padding, 1,\n",
    "                             poolsize, 2),\n",
    "            Bn_bin_conv_pool(32, classes_num, kernel_size, 1, padding, 1,\n",
    "                             poolsize, 2)\n",
    "        )\n",
    "        self.dropout = nn.Dropout(p=0.5)  # 防止过拟合\n",
    "\n",
    "    def forward(self, batch_data):\n",
    "        batch_data = batch_data.clone().detach().requires_grad_(True).to(self.device)\n",
    "        batch_data = self.classifier(batch_data)\n",
    "\n",
    "        batch_data = self.dropout(batch_data)\n",
    "        batch_data = batch_data.mean(dim=2)  # 去掉一个维度\n",
    "\n",
    "        return batch_data\n",
    "\n",
    "model = ECG_Bin(device=device).to(device)\n",
    "\n",
    "#####################################损失函数：交叉熵#########################################\n",
    "loss_fn = nn.CrossEntropyLoss().to(device)\n",
    "\n",
    "########################################优化器##############################################\n",
    "# optimizer = torch.optim.SGD(model.parameters(), lr=lr)\n",
    "optimizer = optim.Adam(model.parameters(), lr=lr)\n",
    "# optimizer = optim.Adam(model.parameters(), lr=0.1)\n",
    "# # scheduler = optim.lr_scheduler.StepLR(optimizer, step_size=30, gamma=0.1)\n",
    "\n",
    "print(device)\n",
    "#################################学习率梯度衰减#################################\n",
    "# 1. 带预热的余弦退火\n",
    "lr_scheduler = torch.optim.lr_scheduler.CosineAnnealingWarmRestarts(optimizer, epochs, 1, 0.02)\n",
    "# 2. 余弦退火：T_max指一次学习率周期的迭代次数，即T_max个epoch后重置学习率。eta_min指最小学习率，即一个周期后学习率最小会下降到的值\n",
    "# lr_scheduler = torch.optim.lr_scheduler.CosineAnnealingLR(optimizer, T_max=epochs, eta_min=0.05,last_epoch=-1)\n",
    "# 3. 指数衰减,每一次epoch，lr都乘gamma\n",
    "# torch.optim.lr_scheduler.ExponentialLR(optimizer, gamma= 0.5)\n",
    "\n",
    "####################################模型参数汇总#######################################\n",
    "from torchinfo import summary\n",
    "\n",
    "summary(model=model,\n",
    "        input_size=(batch_size, 1, 3600),  # make sure this is \"input_size\", not \"input_shape\"\n",
    "        col_names=[\"input_size\", \"output_size\", \"num_params\", \"trainable\"],\n",
    "        col_width=20,\n",
    "        row_settings=[\"var_names\"])\n",
    "\n"
   ],
   "metadata": {
    "collapsed": false
   }
  },
  {
   "cell_type": "code",
   "execution_count": null,
   "outputs": [],
   "source": [],
   "metadata": {
    "collapsed": false
   }
  }
 ],
 "metadata": {
  "kernelspec": {
   "display_name": "Python 3",
   "language": "python",
   "name": "python3"
  },
  "language_info": {
   "codemirror_mode": {
    "name": "ipython",
    "version": 2
   },
   "file_extension": ".py",
   "mimetype": "text/x-python",
   "name": "python",
   "nbconvert_exporter": "python",
   "pygments_lexer": "ipython2",
   "version": "2.7.6"
  }
 },
 "nbformat": 4,
 "nbformat_minor": 0
}
