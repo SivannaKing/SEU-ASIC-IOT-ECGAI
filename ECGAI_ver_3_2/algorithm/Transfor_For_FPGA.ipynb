{
 "cells": [
  {
   "cell_type": "code",
   "execution_count": 1,
   "metadata": {
    "collapsed": true,
    "ExecuteTime": {
     "start_time": "2023-04-10T09:25:15.443464Z",
     "end_time": "2023-04-10T09:25:21.829046Z"
    }
   },
   "outputs": [
    {
     "name": "stdout",
     "output_type": "stream",
     "text": [
      "cuda:0\n",
      "101\n"
     ]
    }
   ],
   "source": [
    "import torch\n",
    "import torch.nn as nn\n",
    "import torch.optim as optim\n",
    "from torchvision.ops.focal_loss import sigmoid_focal_loss\n",
    "from utils.model import ECG_XNOR_Full_Bin, ECG_XNOR_Full_Ori,  ECG_XNOR_Full_Ori_HW\n",
    "from utils.OP import WeightOperation, FocalLoss, focal_loss\n",
    "from utils.dataset import Loader\n",
    "from utils.engine import train\n",
    "from utils.save_model import save_model\n",
    "\n",
    "device = torch.device('cuda:0' if torch.cuda.is_available() else 'cpu')\n",
    "import numpy as np\n",
    "import random\n",
    "import os\n",
    "# 110:92.97  170:92.97\n",
    "classes_num = 5\n",
    "test_size = 0.2\n",
    "if classes_num == 17:\n",
    "    batch_size = 64\n",
    "    lr = 0.002\n",
    "    seed = 142\n",
    "else:\n",
    "    batch_size = 512\n",
    "    lr = 0.02\n",
    "    seed = 101  #211\n",
    "\n",
    "\n",
    "random.seed(seed)\n",
    "np.random.seed(seed)\n",
    "torch.manual_seed(seed)\n",
    "torch.cuda.manual_seed(seed)\n",
    "\n",
    "loader = Loader(batch_size=batch_size, classes_num=classes_num, device=device, test_size=test_size)\n",
    "labels, train_loader, test_loader = loader.loader()\n",
    "# in_channels, out_channels,    kernel_size,     stride,    padding,   pad_value,   pool_size,  pool_stride\n",
    "kernel_size, padding, poolsize =7, 5, 7\n",
    "padding_value = 1\n",
    "A = [[1,           8,           kernel_size,       2,       padding,       padding_value,       poolsize,        2],\n",
    "     [8,          16,           kernel_size,       1,       padding,       padding_value,       poolsize,        2],\n",
    "     [16,         32,           kernel_size,       1,       padding,       padding_value,       poolsize,        2],\n",
    "     [32,         32,           kernel_size,       1,       padding,       padding_value,       poolsize,        2],\n",
    "     [32,         64,           kernel_size,       1,       padding,       padding_value,       poolsize,        2],\n",
    "     [64,         classes_num,  kernel_size,       1,       padding,       padding_value,       poolsize,        2],\n",
    "     ]\n",
    "\n",
    "model_ori = ECG_XNOR_Full_Ori(block1=A[0], block2=A[1], block3=A[2], block4=A[3],\n",
    "                      block5=A[4] if len(A) > 4 else None,\n",
    "                      block6=A[5] if len(A) > 5 else None,\n",
    "                      block7=A[6] if len(A) > 6 else None,\n",
    "                      device=device).to(device)\n",
    "loss_fn = nn.CrossEntropyLoss().to(device)\n",
    "# loss_fn = FocalLoss(alpha=0.25, gamma=3)\n",
    "optimizer = optim.Adam(model_ori.parameters(), lr=lr)\n",
    "# loader.plot_train_test_splits()\n",
    "print(device)\n",
    "print(seed)"
   ]
  },
  {
   "cell_type": "code",
   "execution_count": 2,
   "outputs": [
    {
     "data": {
      "text/plain": "=============================================================================================================================\nLayer (type (var_name))                       Input Shape          Output Shape         Param #              Trainable\n=============================================================================================================================\nECG_XNOR_Full_Ori (ECG_XNOR_Full_Ori)         [64, 1, 3600]        [64, 17]             --                   True\n├─Bn_bin_conv_pool_block_bw (block1)          [64, 1, 3600]        [64, 8, 898]         --                   True\n│    └─ConstantPad1d (pad)                    [64, 1, 3600]        [64, 1, 3610]        --                   --\n│    └─BinaryConv1d_bw (conv)                 [64, 1, 3610]        [64, 8, 1802]        56                   True\n│    └─MaxPool1d (pool)                       [64, 8, 1802]        [64, 8, 898]         --                   --\n│    └─PReLU (prelu)                          [64, 8, 898]         [64, 8, 898]         1                    True\n│    └─BatchNorm1d (bn)                       [64, 8, 898]         [64, 8, 898]         16                   True\n├─Bn_bin_conv_pool_block_baw (block2)         [64, 8, 898]         [64, 16, 448]        --                   True\n│    └─ConstantPad1d (pad)                    [64, 8, 898]         [64, 8, 908]         --                   --\n│    └─BinaryConv1d_baw (conv)                [64, 8, 908]         [64, 16, 902]        896                  True\n│    └─MaxPool1d (pool)                       [64, 16, 902]        [64, 16, 448]        --                   --\n│    └─PReLU (prelu)                          [64, 16, 448]        [64, 16, 448]        1                    True\n│    └─BatchNorm1d (bn)                       [64, 16, 448]        [64, 16, 448]        32                   True\n├─Bn_bin_conv_pool_block_baw (block3)         [64, 16, 448]        [64, 32, 223]        --                   True\n│    └─ConstantPad1d (pad)                    [64, 16, 448]        [64, 16, 458]        --                   --\n│    └─BinaryConv1d_baw (conv)                [64, 16, 458]        [64, 32, 452]        3,584                True\n│    └─MaxPool1d (pool)                       [64, 32, 452]        [64, 32, 223]        --                   --\n│    └─PReLU (prelu)                          [64, 32, 223]        [64, 32, 223]        1                    True\n│    └─BatchNorm1d (bn)                       [64, 32, 223]        [64, 32, 223]        64                   True\n├─Bn_bin_conv_pool_block_baw (block4)         [64, 32, 223]        [64, 32, 111]        --                   True\n│    └─ConstantPad1d (pad)                    [64, 32, 223]        [64, 32, 233]        --                   --\n│    └─BinaryConv1d_baw (conv)                [64, 32, 233]        [64, 32, 227]        7,168                True\n│    └─MaxPool1d (pool)                       [64, 32, 227]        [64, 32, 111]        --                   --\n│    └─PReLU (prelu)                          [64, 32, 111]        [64, 32, 111]        1                    True\n│    └─BatchNorm1d (bn)                       [64, 32, 111]        [64, 32, 111]        64                   True\n├─Bn_bin_conv_pool_block_baw (block5)         [64, 32, 111]        [64, 64, 55]         --                   True\n│    └─ConstantPad1d (pad)                    [64, 32, 111]        [64, 32, 121]        --                   --\n│    └─BinaryConv1d_baw (conv)                [64, 32, 121]        [64, 64, 115]        14,336               True\n│    └─MaxPool1d (pool)                       [64, 64, 115]        [64, 64, 55]         --                   --\n│    └─PReLU (prelu)                          [64, 64, 55]         [64, 64, 55]         1                    True\n│    └─BatchNorm1d (bn)                       [64, 64, 55]         [64, 64, 55]         128                  True\n├─Bn_bin_conv_pool_block_baw (block6)         [64, 64, 55]         [64, 17, 27]         --                   True\n│    └─ConstantPad1d (pad)                    [64, 64, 55]         [64, 64, 65]         --                   --\n│    └─BinaryConv1d_baw (conv)                [64, 64, 65]         [64, 17, 59]         7,616                True\n│    └─MaxPool1d (pool)                       [64, 17, 59]         [64, 17, 27]         --                   --\n│    └─PReLU (prelu)                          [64, 17, 27]         [64, 17, 27]         1                    True\n│    └─BatchNorm1d (bn)                       [64, 17, 27]         [64, 17, 27]         34                   True\n├─Dropout (dropout0)                          [64, 17, 27]         [64, 17, 27]         --                   --\n=============================================================================================================================\nTotal params: 34,000\nTrainable params: 34,000\nNon-trainable params: 0\nTotal mult-adds (M): 400.29\n=============================================================================================================================\nInput size (MB): 0.92\nForward/backward pass size (MB): 59.89\nParams size (MB): 0.14\nEstimated Total Size (MB): 60.95\n============================================================================================================================="
     },
     "execution_count": 2,
     "metadata": {},
     "output_type": "execute_result"
    }
   ],
   "source": [
    "from torchinfo import summary\n",
    "summary(model=model_ori,\n",
    "        input_size=(batch_size, 1, 3600),  # make sure this is \"input_size\", not \"input_shape\"\n",
    "        col_names=[\"input_size\", \"output_size\", \"num_params\", \"trainable\"],\n",
    "        col_width=20,\n",
    "        row_settings=[\"var_names\"])"
   ],
   "metadata": {
    "collapsed": false
   }
  },
  {
   "cell_type": "code",
   "execution_count": 3,
   "outputs": [
    {
     "data": {
      "text/plain": "=============================================================================================================================\nLayer (type (var_name))                       Input Shape          Output Shape         Param #              Trainable\n=============================================================================================================================\nECG_XNOR_Full_Ori (ECG_XNOR_Full_Ori)         [64, 1, 3600]        [64, 17]             --                   True\n├─Bn_bin_conv_pool_block_bw (block1)          [64, 1, 3600]        [64, 8, 898]         --                   True\n│    └─ConstantPad1d (pad)                    [64, 1, 3600]        [64, 1, 3610]        --                   --\n│    └─BinaryConv1d_bw (conv)                 [64, 1, 3610]        [64, 8, 1802]        56                   True\n│    └─MaxPool1d (pool)                       [64, 8, 1802]        [64, 8, 898]         --                   --\n│    └─PReLU (prelu)                          [64, 8, 898]         [64, 8, 898]         1                    True\n│    └─BatchNorm1d (bn)                       [64, 8, 898]         [64, 8, 898]         16                   True\n├─Bn_bin_conv_pool_block_baw (block2)         [64, 8, 898]         [64, 16, 448]        --                   True\n│    └─ConstantPad1d (pad)                    [64, 8, 898]         [64, 8, 908]         --                   --\n│    └─BinaryConv1d_baw (conv)                [64, 8, 908]         [64, 16, 902]        896                  True\n│    └─MaxPool1d (pool)                       [64, 16, 902]        [64, 16, 448]        --                   --\n│    └─PReLU (prelu)                          [64, 16, 448]        [64, 16, 448]        1                    True\n│    └─BatchNorm1d (bn)                       [64, 16, 448]        [64, 16, 448]        32                   True\n├─Bn_bin_conv_pool_block_baw (block3)         [64, 16, 448]        [64, 32, 223]        --                   True\n│    └─ConstantPad1d (pad)                    [64, 16, 448]        [64, 16, 458]        --                   --\n│    └─BinaryConv1d_baw (conv)                [64, 16, 458]        [64, 32, 452]        3,584                True\n│    └─MaxPool1d (pool)                       [64, 32, 452]        [64, 32, 223]        --                   --\n│    └─PReLU (prelu)                          [64, 32, 223]        [64, 32, 223]        1                    True\n│    └─BatchNorm1d (bn)                       [64, 32, 223]        [64, 32, 223]        64                   True\n├─Bn_bin_conv_pool_block_baw (block4)         [64, 32, 223]        [64, 32, 111]        --                   True\n│    └─ConstantPad1d (pad)                    [64, 32, 223]        [64, 32, 233]        --                   --\n│    └─BinaryConv1d_baw (conv)                [64, 32, 233]        [64, 32, 227]        7,168                True\n│    └─MaxPool1d (pool)                       [64, 32, 227]        [64, 32, 111]        --                   --\n│    └─PReLU (prelu)                          [64, 32, 111]        [64, 32, 111]        1                    True\n│    └─BatchNorm1d (bn)                       [64, 32, 111]        [64, 32, 111]        64                   True\n├─Bn_bin_conv_pool_block_baw (block5)         [64, 32, 111]        [64, 64, 55]         --                   True\n│    └─ConstantPad1d (pad)                    [64, 32, 111]        [64, 32, 121]        --                   --\n│    └─BinaryConv1d_baw (conv)                [64, 32, 121]        [64, 64, 115]        14,336               True\n│    └─MaxPool1d (pool)                       [64, 64, 115]        [64, 64, 55]         --                   --\n│    └─PReLU (prelu)                          [64, 64, 55]         [64, 64, 55]         1                    True\n│    └─BatchNorm1d (bn)                       [64, 64, 55]         [64, 64, 55]         128                  True\n├─Bn_bin_conv_pool_block_baw (block6)         [64, 64, 55]         [64, 17, 27]         --                   True\n│    └─ConstantPad1d (pad)                    [64, 64, 55]         [64, 64, 65]         --                   --\n│    └─BinaryConv1d_baw (conv)                [64, 64, 65]         [64, 17, 59]         7,616                True\n│    └─MaxPool1d (pool)                       [64, 17, 59]         [64, 17, 27]         --                   --\n│    └─PReLU (prelu)                          [64, 17, 27]         [64, 17, 27]         1                    True\n│    └─BatchNorm1d (bn)                       [64, 17, 27]         [64, 17, 27]         34                   True\n├─Dropout (dropout0)                          [64, 17, 27]         [64, 17, 27]         --                   --\n=============================================================================================================================\nTotal params: 34,000\nTrainable params: 34,000\nNon-trainable params: 0\nTotal mult-adds (M): 400.29\n=============================================================================================================================\nInput size (MB): 0.92\nForward/backward pass size (MB): 59.89\nParams size (MB): 0.14\nEstimated Total Size (MB): 60.95\n============================================================================================================================="
     },
     "execution_count": 3,
     "metadata": {},
     "output_type": "execute_result"
    }
   ],
   "source": [
    "from utils.Draw import plot_cfm\n",
    "model_best = torch.load(f'./models/ECG_Net_for_{classes_num}_97.50%.pth')\n",
    "summary(model=model_best,\n",
    "        input_size=(batch_size, 1, 3600),  # make sure this is \"input_size\", not \"input_shape\"\n",
    "        col_names=[\"input_size\", \"output_size\", \"num_params\", \"trainable\"],\n",
    "        col_width=20,\n",
    "        row_settings=[\"var_names\"])"
   ],
   "metadata": {
    "collapsed": false
   }
  },
  {
   "cell_type": "code",
   "execution_count": 4,
   "outputs": [],
   "source": [
    "from utils.model import  ECG_XNOR_Full_Ori_HW\n",
    "model_HW = ECG_XNOR_Full_Ori_HW(block1=A[0], block2=A[1], block3=A[2], block4=A[3],\n",
    "                      block5=A[4] if len(A) > 4 else None,\n",
    "                      block6=A[5] if len(A) > 5 else None,\n",
    "                      block7=A[6] if len(A) > 6 else None,\n",
    "                      device=device).to(device)"
   ],
   "metadata": {
    "collapsed": false
   }
  },
  {
   "cell_type": "code",
   "execution_count": 5,
   "outputs": [
    {
     "data": {
      "text/plain": "=============================================================================================================================\nLayer (type (var_name))                       Input Shape          Output Shape         Param #              Trainable\n=============================================================================================================================\nECG_XNOR_Full_Ori_HW (ECG_XNOR_Full_Ori_HW)   [64, 1, 3600]        [64, 17]             --                   True\n├─Bn_bin_conv_pool_block_bw (block1)          [64, 1, 3600]        [64, 8, 898]         --                   True\n│    └─ConstantPad1d (pad)                    [64, 1, 3600]        [64, 1, 3610]        --                   --\n│    └─BinaryConv1d_bw (conv)                 [64, 1, 3610]        [64, 8, 1802]        56                   True\n│    └─MaxPool1d (pool)                       [64, 8, 1802]        [64, 8, 898]         --                   --\n│    └─PReLU (prelu)                          [64, 8, 898]         [64, 8, 898]         1                    True\n│    └─BatchNorm1d (bn)                       [64, 8, 898]         [64, 8, 898]         16                   True\n├─Bn_bin_conv_pool_block_baw (block2)         [64, 8, 898]         [64, 16, 448]        --                   True\n│    └─ConstantPad1d (pad)                    [64, 8, 898]         [64, 8, 908]         --                   --\n│    └─BinaryConv1d_baw (conv)                [64, 8, 908]         [64, 16, 902]        896                  True\n│    └─MaxPool1d (pool)                       [64, 16, 902]        [64, 16, 448]        --                   --\n│    └─PReLU (prelu)                          [64, 16, 448]        [64, 16, 448]        1                    True\n│    └─BatchNorm1d (bn)                       [64, 16, 448]        [64, 16, 448]        32                   True\n├─Bn_bin_conv_pool_block_baw (block3)         [64, 16, 448]        [64, 32, 223]        --                   True\n│    └─ConstantPad1d (pad)                    [64, 16, 448]        [64, 16, 458]        --                   --\n│    └─BinaryConv1d_baw (conv)                [64, 16, 458]        [64, 32, 452]        3,584                True\n│    └─MaxPool1d (pool)                       [64, 32, 452]        [64, 32, 223]        --                   --\n│    └─PReLU (prelu)                          [64, 32, 223]        [64, 32, 223]        1                    True\n│    └─BatchNorm1d (bn)                       [64, 32, 223]        [64, 32, 223]        64                   True\n├─Bn_bin_conv_pool_block_baw (block4)         [64, 32, 223]        [64, 32, 111]        --                   True\n│    └─ConstantPad1d (pad)                    [64, 32, 223]        [64, 32, 233]        --                   --\n│    └─BinaryConv1d_baw (conv)                [64, 32, 233]        [64, 32, 227]        7,168                True\n│    └─MaxPool1d (pool)                       [64, 32, 227]        [64, 32, 111]        --                   --\n│    └─PReLU (prelu)                          [64, 32, 111]        [64, 32, 111]        1                    True\n│    └─BatchNorm1d (bn)                       [64, 32, 111]        [64, 32, 111]        64                   True\n├─Bn_bin_conv_pool_block_baw (block5)         [64, 32, 111]        [64, 64, 55]         --                   True\n│    └─ConstantPad1d (pad)                    [64, 32, 111]        [64, 32, 121]        --                   --\n│    └─BinaryConv1d_baw (conv)                [64, 32, 121]        [64, 64, 115]        14,336               True\n│    └─MaxPool1d (pool)                       [64, 64, 115]        [64, 64, 55]         --                   --\n│    └─PReLU (prelu)                          [64, 64, 55]         [64, 64, 55]         1                    True\n│    └─BatchNorm1d (bn)                       [64, 64, 55]         [64, 64, 55]         128                  True\n├─Bn_bin_conv_pool_block_baw (block6)         [64, 64, 55]         [64, 17, 27]         --                   True\n│    └─ConstantPad1d (pad)                    [64, 64, 55]         [64, 64, 65]         --                   --\n│    └─BinaryConv1d_baw (conv)                [64, 64, 65]         [64, 17, 59]         7,616                True\n│    └─MaxPool1d (pool)                       [64, 17, 59]         [64, 17, 27]         --                   --\n│    └─PReLU (prelu)                          [64, 17, 27]         [64, 17, 27]         1                    True\n│    └─BatchNorm1d (bn)                       [64, 17, 27]         [64, 17, 27]         34                   True\n├─Dropout (dropout0)                          [64, 17, 27]         [64, 17, 27]         --                   --\n=============================================================================================================================\nTotal params: 34,000\nTrainable params: 34,000\nNon-trainable params: 0\nTotal mult-adds (M): 400.29\n=============================================================================================================================\nInput size (MB): 0.92\nForward/backward pass size (MB): 59.89\nParams size (MB): 0.14\nEstimated Total Size (MB): 60.95\n============================================================================================================================="
     },
     "execution_count": 5,
     "metadata": {},
     "output_type": "execute_result"
    }
   ],
   "source": [
    "summary(model=model_HW,\n",
    "        input_size=(batch_size, 1, 3600),  # make sure this is \"input_size\", not \"input_shape\"\n",
    "        col_names=[\"input_size\", \"output_size\", \"num_params\", \"trainable\"],\n",
    "        col_width=20,\n",
    "        row_settings=[\"var_names\"])"
   ],
   "metadata": {
    "collapsed": false
   }
  },
  {
   "cell_type": "code",
   "execution_count": 6,
   "outputs": [],
   "source": [
    "model_HW.block1.conv = model_best.block1.conv\n",
    "model_HW.block1.prelu = model_best.block1.prelu\n",
    "model_HW.block1.bn = model_best.block1.bn\n",
    "\n",
    "model_HW.block2.conv = model_best.block2.conv\n",
    "model_HW.block2.prelu = model_best.block2.prelu\n",
    "model_HW.block2.bn = model_best.block2.bn\n",
    "\n",
    "model_HW.block3.conv = model_best.block3.conv\n",
    "model_HW.block3.prelu = model_best.block3.prelu\n",
    "model_HW.block3.bn = model_best.block3.bn\n",
    "\n",
    "model_HW.block4.conv = model_best.block4.conv\n",
    "model_HW.block4.prelu = model_best.block4.prelu\n",
    "model_HW.block4.bn = model_best.block4.bn\n",
    "\n",
    "model_HW.block5.conv = model_best.block5.conv\n",
    "model_HW.block5.prelu = model_best.block5.prelu\n",
    "model_HW.block5.bn = model_best.block5.bn\n",
    "\n",
    "model_HW.block6.conv = model_best.block6.conv\n",
    "model_HW.block6.prelu = model_best.block6.prelu\n",
    "model_HW.block6.bn = model_best.block6.bn"
   ],
   "metadata": {
    "collapsed": false
   }
  },
  {
   "cell_type": "code",
   "execution_count": 7,
   "outputs": [
    {
     "name": "stdout",
     "output_type": "stream",
     "text": [
      "0.975\n"
     ]
    }
   ],
   "source": [
    "model_HW.eval()\n",
    "test_loss, test_acc = 0, 0\n",
    "correct, total = 0, 0\n",
    "# Turn on inference context manager\n",
    "with torch.inference_mode():\n",
    "    # Loop through DataLoader batches\n",
    "    for (X, y) in test_loader:\n",
    "        # Send data to target device\n",
    "        X, y = X.to(device), y.to(device)\n",
    "\n",
    "        # 1. Forward pass\n",
    "        test_pred_logits = model_HW(X)\n",
    "        # 2. Calculate and accumulate loss\n",
    "        loss = loss_fn(test_pred_logits, y)\n",
    "        # loss = sigmoid_focal_loss(predicted.float(), y.float(), alpha=0.25, gamma=3, reduction='mean')\n",
    "        test_loss += loss.item()\n",
    "\n",
    "        # Calculate and accumulate accuracy\n",
    "        # test_pred_labels = test_pred_logits.argmax(dim=1)\n",
    "        # test_acc += ((test_pred_labels == y).sum().item() / len(test_pred_labels))\n",
    "        _, predicted = torch.max(test_pred_logits.data, dim=1)\n",
    "        total += len(y)\n",
    "        correct += (predicted == y).sum().cpu().item()\n",
    "# Adjust metrics to get average loss and accuracy per batch\n",
    "test_acc = correct / total\n",
    "print(test_acc)"
   ],
   "metadata": {
    "collapsed": false
   }
  },
  {
   "cell_type": "code",
   "execution_count": 8,
   "outputs": [
    {
     "name": "stdout",
     "output_type": "stream",
     "text": [
      "0.975\n"
     ]
    }
   ],
   "source": [
    "model_best.eval()\n",
    "test_loss, test_acc = 0, 0\n",
    "correct, total = 0, 0\n",
    "# Turn on inference context manager\n",
    "with torch.inference_mode():\n",
    "    # Loop through DataLoader batches\n",
    "    for (X, y) in test_loader:\n",
    "        # Send data to target device\n",
    "        X, y = X.to(device), y.to(device)\n",
    "\n",
    "        # 1. Forward pass\n",
    "        test_pred_logits = model_best(X)\n",
    "        # 2. Calculate and accumulate loss\n",
    "        loss = loss_fn(test_pred_logits, y)\n",
    "        # loss = sigmoid_focal_loss(predicted.float(), y.float(), alpha=0.25, gamma=3, reduction='mean')\n",
    "        test_loss += loss.item()\n",
    "\n",
    "        # Calculate and accumulate accuracy\n",
    "        # test_pred_labels = test_pred_logits.argmax(dim=1)\n",
    "        # test_acc += ((test_pred_labels == y).sum().item() / len(test_pred_labels))\n",
    "        _, predicted = torch.max(test_pred_logits.data, dim=1)\n",
    "        total += len(y)\n",
    "        correct += (predicted == y).sum().cpu().item()\n",
    "# Adjust metrics to get average loss and accuracy per batch\n",
    "test_acc = correct / total\n",
    "print(test_acc)"
   ],
   "metadata": {
    "collapsed": false
   }
  },
  {
   "cell_type": "code",
   "execution_count": 9,
   "outputs": [
    {
     "data": {
      "text/plain": "Parameter containing:\ntensor([2.4695, 1.6541, 1.6108, 0.7182, 1.6193, 1.6284, 0.6816, 0.9996],\n       device='cuda:0', requires_grad=True)"
     },
     "execution_count": 9,
     "metadata": {},
     "output_type": "execute_result"
    }
   ],
   "source": [
    "model_best.block1.bn.weight"
   ],
   "metadata": {
    "collapsed": false
   }
  },
  {
   "cell_type": "code",
   "execution_count": 10,
   "outputs": [
    {
     "data": {
      "text/plain": "tensor([2.0936, 2.0657, 0.9983, 1.2805, 1.0693, 1.4606, 0.9864, 1.2323],\n       device='cuda:0')"
     },
     "execution_count": 10,
     "metadata": {},
     "output_type": "execute_result"
    }
   ],
   "source": [
    "model_best.block1.bn.running_mean"
   ],
   "metadata": {
    "collapsed": false
   }
  },
  {
   "cell_type": "code",
   "execution_count": 11,
   "outputs": [
    {
     "data": {
      "text/plain": "tensor([37.4469, 36.5888,  5.0580,  5.2522,  3.4033, 17.3104,  6.3414,  4.8396],\n       device='cuda:0')"
     },
     "execution_count": 11,
     "metadata": {},
     "output_type": "execute_result"
    }
   ],
   "source": [
    "model_best.block1.bn.running_var"
   ],
   "metadata": {
    "collapsed": false
   }
  },
  {
   "cell_type": "code",
   "execution_count": 12,
   "outputs": [
    {
     "data": {
      "text/plain": "Parameter containing:\ntensor([ 0.0596, -0.6600, -0.0774, -0.7521,  0.0848, -0.1289, -0.5796, -0.4351],\n       device='cuda:0', requires_grad=True)"
     },
     "execution_count": 12,
     "metadata": {},
     "output_type": "execute_result"
    }
   ],
   "source": [
    "model_best.block1.bn.bias"
   ],
   "metadata": {
    "collapsed": false
   }
  },
  {
   "cell_type": "code",
   "execution_count": 13,
   "outputs": [
    {
     "data": {
      "text/plain": "tensor([1.9458, 4.4792, 1.1063, 3.6805, 0.9727, 1.7899, 3.1278, 2.1898],\n       device='cuda:0', grad_fn=<SubBackward0>)"
     },
     "execution_count": 13,
     "metadata": {},
     "output_type": "execute_result"
    }
   ],
   "source": [
    "model_best.block1.bn.running_mean - torch.sqrt(model_best.block1.bn.running_var + model_best.block1.bn.eps)*(model_best.block1.bn.bias/model_best.block1.bn.weight)"
   ],
   "metadata": {
    "collapsed": false
   }
  },
  {
   "cell_type": "code",
   "execution_count": 18,
   "outputs": [
    {
     "name": "stdout",
     "output_type": "stream",
     "text": [
      "torch.Size([8])\n",
      "torch.Size([8])\n",
      "tensor([1.9458, 4.4792, 1.1063, 3.6805, 0.9727, 1.7899, 3.1278, 2.1898],\n",
      "       device='cuda:0', grad_fn=<DivBackward0>)\n",
      "tensor([-1.0501, -2.4172, -0.5970, -1.9862, -0.5249, -0.9659, -1.6879, -1.1817],\n",
      "       device='cuda:0', grad_fn=<MulBackward0>)\n"
     ]
    }
   ],
   "source": [
    "model = model_best\n",
    "block = model.block1\n",
    "block.k = model.block1.bn.weight / torch.sqrt(model_best.block1.bn.running_var + model_best.block1.bn.eps)\n",
    "block.b = model.block1.bn.bias - model_best.block1.bn.running_mean * model.block1.bn.weight / torch.sqrt(model_best.block1.bn.running_var + model_best.block1.bn.eps)\n",
    "block.thre_plus = - block.b / block.k\n",
    "block.thre_minus = block.b / block.k * block.prelu.weight\n",
    "\n",
    "print(model.block1.k.shape)\n",
    "print(model.block1.b.shape)\n",
    "print(block.thre_plus)\n",
    "print(block.thre_minus)"
   ],
   "metadata": {
    "collapsed": false
   }
  },
  {
   "cell_type": "code",
   "execution_count": 2,
   "outputs": [],
   "source": [
    "from torchinfo import summary\n",
    "model_best = torch.load(f'./models/ECG_Net_for_{classes_num}_91.28%.pth')\n",
    "\n",
    "summary(model=model_best,\n",
    "        input_size=(batch_size, 1, 3600),  # make sure this is \"input_size\", not \"input_shape\"\n",
    "        col_names=[\"input_size\", \"output_size\", \"num_params\", \"trainable\"],\n",
    "        col_width=20,\n",
    "        row_settings=[\"var_names\"])\n",
    "weightOperation = WeightOperation(model_best)\n",
    "weightOperation.WeightBinarize()"
   ],
   "metadata": {
    "collapsed": false,
    "ExecuteTime": {
     "start_time": "2023-04-10T09:25:47.602218Z",
     "end_time": "2023-04-10T09:25:48.768683Z"
    }
   }
  },
  {
   "cell_type": "code",
   "execution_count": 3,
   "outputs": [
    {
     "data": {
      "text/plain": "Parameter containing:\ntensor([[[-1., -1.,  1.,  1.,  1., -1., -1.]],\n\n        [[-1.,  1.,  1.,  1., -1., -1., -1.]],\n\n        [[-1., -1., -1., -1.,  1.,  1.,  1.]],\n\n        [[-1., -1., -1., -1., -1., -1., -1.]],\n\n        [[ 1.,  1.,  1.,  1.,  1., -1., -1.]],\n\n        [[-1.,  1.,  1.,  1.,  1.,  1.,  1.]],\n\n        [[ 1.,  1.,  1.,  1.,  1.,  1.,  1.]],\n\n        [[ 1., -1., -1., -1.,  1., -1., -1.]]], device='cuda:0',\n       requires_grad=True)"
     },
     "execution_count": 3,
     "metadata": {},
     "output_type": "execute_result"
    }
   ],
   "source": [
    "model_best.block1.conv.weight"
   ],
   "metadata": {
    "collapsed": false,
    "ExecuteTime": {
     "start_time": "2023-04-10T09:25:48.772632Z",
     "end_time": "2023-04-10T09:25:48.817305Z"
    }
   }
  },
  {
   "cell_type": "code",
   "execution_count": 18,
   "outputs": [],
   "source": [
    "a = model_best.block1.conv.weight.data"
   ],
   "metadata": {
    "collapsed": false,
    "ExecuteTime": {
     "start_time": "2023-04-10T09:40:02.757526Z",
     "end_time": "2023-04-10T09:40:02.803754Z"
    }
   }
  },
  {
   "cell_type": "code",
   "execution_count": 19,
   "outputs": [],
   "source": [
    "a[a==1]  = 1\n",
    "a[a==-1] = 0"
   ],
   "metadata": {
    "collapsed": false,
    "ExecuteTime": {
     "start_time": "2023-04-10T09:40:03.334819Z",
     "end_time": "2023-04-10T09:40:03.346156Z"
    }
   }
  },
  {
   "cell_type": "code",
   "execution_count": 20,
   "outputs": [
    {
     "name": "stdout",
     "output_type": "stream",
     "text": [
      "tensor([[0., 0., 1., 1., 1., 0., 0., 0., 1., 1., 1., 0., 0., 0., 0., 0., 0., 0.,\n",
      "         1., 1., 1., 0., 0., 0., 0., 0., 0., 0., 1., 1., 1., 1.],\n",
      "        [1., 0., 0., 0., 1., 1., 1., 1., 1., 1., 1., 1., 1., 1., 1., 1., 1., 1.,\n",
      "         0., 0., 0., 1., 0., 0., 0., 0., 0., 0., 0., 0., 0., 0.]])\n"
     ]
    }
   ],
   "source": [
    "a=a.reshape((-1,56)).cpu()\n",
    "a = a.squeeze()\n",
    "zero_tensor = torch.zeros(8)\n",
    "a1 = torch.cat((a, zero_tensor))\n",
    "a1 = a1.reshape((-1,32))\n",
    "print(a1)"
   ],
   "metadata": {
    "collapsed": false,
    "ExecuteTime": {
     "start_time": "2023-04-10T09:40:04.095634Z",
     "end_time": "2023-04-10T09:40:04.109321Z"
    }
   }
  },
  {
   "cell_type": "code",
   "execution_count": 21,
   "outputs": [],
   "source": [
    "import re\n",
    "def array_to_txt(arr, filename):\n",
    "    with open(filename, 'w') as f:\n",
    "        # 写入每个值\n",
    "        for i in range(arr.shape[0]):\n",
    "            row = ''.join(str(int(x)) for x in arr[i])\n",
    "            # 在每8位后面插入\"_\"\n",
    "            row = re.sub(\"(.{8})\", \"\\\\1_\", row)\n",
    "            f.write(row + '\\n')\n",
    "\n",
    "array_to_txt(a1, \"block1_weight.txt\")"
   ],
   "metadata": {
    "collapsed": false,
    "ExecuteTime": {
     "start_time": "2023-04-10T09:40:06.230414Z",
     "end_time": "2023-04-10T09:40:06.242565Z"
    }
   }
  },
  {
   "cell_type": "code",
   "execution_count": null,
   "outputs": [],
   "source": [],
   "metadata": {
    "collapsed": false
   }
  }
 ],
 "metadata": {
  "kernelspec": {
   "name": "pytorch",
   "language": "python",
   "display_name": "PyTorch"
  },
  "language_info": {
   "codemirror_mode": {
    "name": "ipython",
    "version": 2
   },
   "file_extension": ".py",
   "mimetype": "text/x-python",
   "name": "python",
   "nbconvert_exporter": "python",
   "pygments_lexer": "ipython2",
   "version": "2.7.6"
  }
 },
 "nbformat": 4,
 "nbformat_minor": 0
}
