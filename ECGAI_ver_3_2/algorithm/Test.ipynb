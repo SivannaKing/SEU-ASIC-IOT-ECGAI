{
 "cells": [
  {
   "cell_type": "code",
   "execution_count": null,
   "metadata": {
    "collapsed": true
   },
   "outputs": [],
   "source": [
    "import torch.nn as nn\n",
    "import torch\n",
    "\n",
    "class KxPlusB(nn.Module):\n",
    "    def __init__(self, num_channels):\n",
    "        super(KxPlusB, self).__init__()\n",
    "        self.num_channels = num_channels\n",
    "        self.k = nn.Parameter(torch.ones(num_channels, 1, 1))\n",
    "        self.b = nn.Parameter(torch.zeros(num_channels, 1, 1))\n",
    "\n",
    "    def forward(self, x):\n",
    "        # x has shape (batch_size, num_channels, sequence_length)\n",
    "        # expand k and b to match the shape of x\n",
    "        k = self.k.expand(-1, x.size(1), -1)\n",
    "        b = self.b.expand(-1, x.size(1), -1)\n",
    "\n",
    "        # apply kx_plus_b transformation to each channel separately\n",
    "        y = k * x + b\n",
    "\n",
    "        return y\n",
    "\n"
   ]
  }
 ],
 "metadata": {
  "kernelspec": {
   "display_name": "Python 3",
   "language": "python",
   "name": "python3"
  },
  "language_info": {
   "codemirror_mode": {
    "name": "ipython",
    "version": 2
   },
   "file_extension": ".py",
   "mimetype": "text/x-python",
   "name": "python",
   "nbconvert_exporter": "python",
   "pygments_lexer": "ipython2",
   "version": "2.7.6"
  }
 },
 "nbformat": 4,
 "nbformat_minor": 0
}
