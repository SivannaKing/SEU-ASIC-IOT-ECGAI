{
 "cells": [
  {
   "cell_type": "code",
   "execution_count": 24,
   "metadata": {
    "collapsed": true,
    "ExecuteTime": {
     "start_time": "2023-04-03T21:45:14.617624Z",
     "end_time": "2023-04-03T21:45:16.699182Z"
    }
   },
   "outputs": [],
   "source": [
    "import torch\n",
    "import numpy as np\n",
    "import random\n",
    "from utils.dataset import Loader\n",
    "import torch.nn as nn\n",
    "\n",
    "device = torch.device('cpu')\n",
    "\n",
    "classes_num = 5\n",
    "test_size = 0.2\n",
    "if classes_num == 17:\n",
    "    batch_size = 64\n",
    "    lr = 0.002\n",
    "    seed = 142\n",
    "else:\n",
    "    batch_size = 512\n",
    "    lr = 0.02\n",
    "    seed = 101  #211\n",
    "\n",
    "\n",
    "random.seed(seed)\n",
    "np.random.seed(seed)\n",
    "torch.manual_seed(seed)\n",
    "torch.cuda.manual_seed(seed)\n",
    "\n",
    "pad = nn.ConstantPad1d(padding=5, value=1)\n",
    "\n",
    "loader = Loader(batch_size=batch_size, classes_num=classes_num, device=device, test_size=test_size)\n",
    "#取测试集的第0个数据(1,3600),并将其降维为(3600)，再转化为int32类型\n",
    "#采取新策略:每行存储32个1bit数据，这样的话先要补齐3610不够的部分:\n",
    "data = loader.test_dataset[0][0].squeeze()\n",
    "pad_data = pad(data)   #3600 --3610\n",
    "padding_size = (32 - len(pad_data) % 32) % 32  #要再在尾巴补这么多个数才能被32整除\n",
    "zero_tensor = torch.zeros(padding_size)\n",
    "\n",
    "new_data = torch.cat((pad_data, zero_tensor))\n",
    "\n",
    "new_data[new_data > 0] = 1\n",
    "new_data[new_data <= 0] = 0\n",
    "data = new_data.to(torch.int32)\n",
    "# labels, train_loader, test_loader = loader.loader()"
   ]
  },
  {
   "cell_type": "code",
   "execution_count": 25,
   "outputs": [
    {
     "data": {
      "text/plain": "torch.Size([3616])"
     },
     "execution_count": 25,
     "metadata": {},
     "output_type": "execute_result"
    }
   ],
   "source": [
    "data.shape"
   ],
   "metadata": {
    "collapsed": false,
    "ExecuteTime": {
     "start_time": "2023-04-03T21:45:17.469294Z",
     "end_time": "2023-04-03T21:45:17.472605Z"
    }
   }
  },
  {
   "cell_type": "code",
   "execution_count": 30,
   "outputs": [
    {
     "data": {
      "text/plain": "torch.Size([113, 32])"
     },
     "execution_count": 30,
     "metadata": {},
     "output_type": "execute_result"
    }
   ],
   "source": [
    "data = data.reshape(-1,32)\n",
    "data.shape"
   ],
   "metadata": {
    "collapsed": false,
    "ExecuteTime": {
     "start_time": "2023-04-03T21:48:18.640287Z",
     "end_time": "2023-04-03T21:48:18.681798Z"
    }
   }
  },
  {
   "cell_type": "code",
   "execution_count": 29,
   "outputs": [],
   "source": [
    "def array_to_coe(arr, filename):\n",
    "    with open(filename, 'w') as f:\n",
    "        f.write('memory_initialization_radix=2;\\n')\n",
    "        f.write('memory_initialization_vector=\\n')\n",
    "\n",
    "        # 写入每个值\n",
    "        for i in range(arr.shape[0]):\n",
    "            row = ''.join(str(int(x)) for x in arr[i])\n",
    "            f.write(row + ',\\n')\n",
    "\n",
    "# arr = torch.randint(0, 2, (113, 32))\n",
    "array_to_coe(data, 'ecg_data.coe')"
   ],
   "metadata": {
    "collapsed": false,
    "ExecuteTime": {
     "start_time": "2023-04-03T21:46:28.921913Z",
     "end_time": "2023-04-03T21:46:28.965825Z"
    }
   }
  },
  {
   "cell_type": "code",
   "execution_count": null,
   "outputs": [],
   "source": [
    "def array_to_txt(arr, filename):\n",
    "    with open(filename, 'w') as f:\n",
    "        f.write('memory_initialization_radix=2;\\n')\n",
    "        f.write('memory_initialization_vector=\\n')\n",
    "\n",
    "        # 写入每个值\n",
    "        for i in range(arr.shape[0]):\n",
    "            row = ''.join(str(int(x)) for x in arr[i])\n",
    "            f.write(row + ',\\n')\n",
    "\n",
    "# arr = torch.randint(0, 2, (113, 32))\n",
    "array_to_txt(data, 'ecg_data.coe')"
   ],
   "metadata": {
    "collapsed": false
   }
  },
  {
   "cell_type": "code",
   "execution_count": 5,
   "outputs": [
    {
     "data": {
      "text/plain": "28.34375"
     },
     "execution_count": 5,
     "metadata": {},
     "output_type": "execute_result"
    }
   ],
   "source": [
    "907/32"
   ],
   "metadata": {
    "collapsed": false,
    "ExecuteTime": {
     "start_time": "2023-04-04T17:14:19.853125Z",
     "end_time": "2023-04-04T17:14:19.857673Z"
    }
   }
  },
  {
   "cell_type": "code",
   "execution_count": 6,
   "outputs": [
    {
     "data": {
      "text/plain": "928"
     },
     "execution_count": 6,
     "metadata": {},
     "output_type": "execute_result"
    }
   ],
   "source": [
    "29*32"
   ],
   "metadata": {
    "collapsed": false,
    "ExecuteTime": {
     "start_time": "2023-04-04T17:14:26.318462Z",
     "end_time": "2023-04-04T17:14:26.361870Z"
    }
   }
  },
  {
   "cell_type": "code",
   "execution_count": null,
   "outputs": [],
   "source": [],
   "metadata": {
    "collapsed": false
   }
  }
 ],
 "metadata": {
  "kernelspec": {
   "name": "pytorch",
   "language": "python",
   "display_name": "PyTorch"
  },
  "language_info": {
   "codemirror_mode": {
    "name": "ipython",
    "version": 2
   },
   "file_extension": ".py",
   "mimetype": "text/x-python",
   "name": "python",
   "nbconvert_exporter": "python",
   "pygments_lexer": "ipython2",
   "version": "2.7.6"
  }
 },
 "nbformat": 4,
 "nbformat_minor": 0
}
